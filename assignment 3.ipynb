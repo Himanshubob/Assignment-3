{
 "cells": [
  {
   "cell_type": "markdown",
   "id": "756f0d64",
   "metadata": {},
   "source": [
    "# Q1...."
   ]
  },
  {
   "cell_type": "code",
   "execution_count": 8,
   "id": "a47c6e19",
   "metadata": {},
   "outputs": [],
   "source": [
    "l=[(1,3),(4,5),(10,6),(1,2)]"
   ]
  },
  {
   "cell_type": "code",
   "execution_count": 10,
   "id": "bcf6d605",
   "metadata": {},
   "outputs": [],
   "source": [
    " l.sort()"
   ]
  },
  {
   "cell_type": "code",
   "execution_count": 12,
   "id": "716c6a8d",
   "metadata": {},
   "outputs": [
    {
     "data": {
      "text/plain": [
       "[(1, 2), (1, 3), (4, 5), (10, 6)]"
      ]
     },
     "execution_count": 12,
     "metadata": {},
     "output_type": "execute_result"
    }
   ],
   "source": [
    "(l)"
   ]
  },
  {
   "cell_type": "markdown",
   "id": "2fddc5f2",
   "metadata": {},
   "source": [
    "# Q2...."
   ]
  },
  {
   "cell_type": "code",
   "execution_count": 22,
   "id": "f3ce65a5",
   "metadata": {},
   "outputs": [],
   "source": [
    "l=[1, 2, 3, 4, 5, 6, 7, 8, 9, 10]"
   ]
  },
  {
   "cell_type": "code",
   "execution_count": 23,
   "id": "450006e5",
   "metadata": {},
   "outputs": [
    {
     "data": {
      "text/plain": [
       "[1, 4, 9, 16, 25, 36, 49, 64, 81, 100]"
      ]
     },
     "execution_count": 23,
     "metadata": {},
     "output_type": "execute_result"
    }
   ],
   "source": [
    "list(map(lambda x: x**2,l))"
   ]
  },
  {
   "cell_type": "markdown",
   "id": "41110e40",
   "metadata": {},
   "source": [
    "l="
   ]
  },
  {
   "cell_type": "code",
   "execution_count": 24,
   "id": "c1820110",
   "metadata": {},
   "outputs": [],
   "source": [
    "l= [1, 2, 3, 4, 5, 6, 7, 8, 9, 10]"
   ]
  },
  {
   "cell_type": "code",
   "execution_count": 25,
   "id": "c7f6eddd",
   "metadata": {},
   "outputs": [
    {
     "data": {
      "text/plain": [
       "('1', '2', '3', '4', '5', '6', '7', '8', '9', '10')"
      ]
     },
     "execution_count": 25,
     "metadata": {},
     "output_type": "execute_result"
    }
   ],
   "source": [
    "tuple (map(lambda x: str(x),l))"
   ]
  },
  {
   "cell_type": "code",
   "execution_count": null,
   "id": "580b4c36",
   "metadata": {},
   "outputs": [],
   "source": []
  },
  {
   "cell_type": "markdown",
   "id": "fd4210d3",
   "metadata": {},
   "source": [
    "# Q4....\n"
   ]
  },
  {
   "cell_type": "code",
   "execution_count": 23,
   "id": "240d9433",
   "metadata": {},
   "outputs": [],
   "source": [
    "l=[]\n",
    "for i in range(1,25):\n",
    "    l.append(i)"
   ]
  },
  {
   "cell_type": "code",
   "execution_count": 24,
   "id": "b723208e",
   "metadata": {},
   "outputs": [
    {
     "data": {
      "text/plain": [
       "[1,\n",
       " 2,\n",
       " 3,\n",
       " 4,\n",
       " 5,\n",
       " 6,\n",
       " 7,\n",
       " 8,\n",
       " 9,\n",
       " 10,\n",
       " 11,\n",
       " 12,\n",
       " 13,\n",
       " 14,\n",
       " 15,\n",
       " 16,\n",
       " 17,\n",
       " 18,\n",
       " 19,\n",
       " 20,\n",
       " 21,\n",
       " 22,\n",
       " 23,\n",
       " 24]"
      ]
     },
     "execution_count": 24,
     "metadata": {},
     "output_type": "execute_result"
    }
   ],
   "source": [
    "l"
   ]
  },
  {
   "cell_type": "code",
   "execution_count": 27,
   "id": "54591446",
   "metadata": {},
   "outputs": [],
   "source": [
    "from functools import reduce"
   ]
  },
  {
   "cell_type": "code",
   "execution_count": 28,
   "id": "73af0bfe",
   "metadata": {},
   "outputs": [
    {
     "data": {
      "text/plain": [
       "620448401733239439360000"
      ]
     },
     "execution_count": 28,
     "metadata": {},
     "output_type": "execute_result"
    }
   ],
   "source": [
    "reduce( lambda x ,y:x*y,l)"
   ]
  },
  {
   "cell_type": "markdown",
   "id": "9543815c",
   "metadata": {},
   "source": [
    "# Q 5..."
   ]
  },
  {
   "cell_type": "code",
   "execution_count": 15,
   "id": "77eac947",
   "metadata": {},
   "outputs": [],
   "source": [
    "l=[2, 3, 6, 9, 27, 60, 90, 120, 55, 46]"
   ]
  },
  {
   "cell_type": "code",
   "execution_count": 16,
   "id": "578b1e82",
   "metadata": {},
   "outputs": [
    {
     "data": {
      "text/plain": [
       "[6, 60, 90, 120]"
      ]
     },
     "execution_count": 16,
     "metadata": {},
     "output_type": "execute_result"
    }
   ],
   "source": [
    "list(filter(lambda x: (x%2==0 and x%3==0),l))"
   ]
  },
  {
   "cell_type": "markdown",
   "id": "4a1da89a",
   "metadata": {},
   "source": [
    "# Q 6...\n"
   ]
  },
  {
   "cell_type": "code",
   "execution_count": 17,
   "id": "f163d7ca",
   "metadata": {},
   "outputs": [],
   "source": [
    "l=['python', 'php', 'aba', 'radar', 'leve']"
   ]
  },
  {
   "cell_type": "code",
   "execution_count": 21,
   "id": "7eaecfa0",
   "metadata": {},
   "outputs": [
    {
     "data": {
      "text/plain": [
       "['php', 'aba', 'radar']"
      ]
     },
     "execution_count": 21,
     "metadata": {},
     "output_type": "execute_result"
    }
   ],
   "source": [
    "list(filter (lambda x:((x==\"\".join(reversed(x)))),l))"
   ]
  },
  {
   "cell_type": "code",
   "execution_count": null,
   "id": "72482edb",
   "metadata": {},
   "outputs": [],
   "source": []
  }
 ],
 "metadata": {
  "kernelspec": {
   "display_name": "Python 3 (ipykernel)",
   "language": "python",
   "name": "python3"
  },
  "language_info": {
   "codemirror_mode": {
    "name": "ipython",
    "version": 3
   },
   "file_extension": ".py",
   "mimetype": "text/x-python",
   "name": "python",
   "nbconvert_exporter": "python",
   "pygments_lexer": "ipython3",
   "version": "3.10.9"
  }
 },
 "nbformat": 4,
 "nbformat_minor": 5
}
